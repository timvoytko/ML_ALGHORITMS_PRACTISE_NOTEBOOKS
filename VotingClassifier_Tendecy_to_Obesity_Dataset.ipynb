{
 "cells": [
  {
   "cell_type": "code",
   "execution_count": 1,
   "metadata": {},
   "outputs": [],
   "source": [
    "import pandas as pd\n",
    "df = pd.read_csv('tendency_to_obesity.csv')\n",
    "X = df.drop('NObeyesdad',axis=1)\n",
    "y = df.NObeyesdad\n",
    "special_columns = ['FCVC', 'NCP', 'CH2O', 'FAF', 'TUE','Age']\n",
    "# видимо, данные при чтении(записи) были плохо записаны, найденная мной информация о датасете говорит, \n",
    "# что должны быть целые числа,\n",
    "# причем данные 'не количественные', к примеру: FAF  - Frequency of physical activity -> 0 ==do not have,1 ==1 0r 2 days\n",
    "# однозначно стоит разбить на dummies(все, кроме Age)\n",
    "for column in special_columns:\n",
    "    X[column] = X[column].astype('uint8')"
   ]
  },
  {
   "cell_type": "code",
   "execution_count": 2,
   "metadata": {},
   "outputs": [],
   "source": [
    "def getting_and_changeing_columns_to_dummieses(df, n):\n",
    "    \"\"\"If count of unique values is smaller than n , we create dummies\"\"\"\n",
    "    columns = df.columns\n",
    "    for column in columns:\n",
    "        if len(df[column].unique()) < n:\n",
    "        \n",
    "            df = pd.concat([df,pd.get_dummies(X[column],prefix=column)],axis=1)\n",
    "            df.drop(column,axis=1,inplace=True)\n",
    "    return df"
   ]
  },
  {
   "cell_type": "code",
   "execution_count": 3,
   "metadata": {},
   "outputs": [],
   "source": [
    "X = getting_and_changeing_columns_to_dummieses(X,10)"
   ]
  },
  {
   "cell_type": "code",
   "execution_count": 4,
   "metadata": {},
   "outputs": [],
   "source": [
    "from sklearn.metrics import classification_report\n",
    "from sklearn.model_selection import train_test_split\n",
    "X_train,X_test,y_train,y_test = train_test_split(X,y,test_size=0.2,random_state = 42)"
   ]
  },
  {
   "cell_type": "code",
   "execution_count": 5,
   "metadata": {},
   "outputs": [],
   "source": [
    "from sklearn.preprocessing import StandardScaler\n",
    "ss = StandardScaler().fit(X = X_train)\n",
    "X_train = ss.transform(X_train)\n",
    "ss = StandardScaler().fit(X = X_test)\n",
    "X_test = ss.transform(X_test)"
   ]
  },
  {
   "cell_type": "code",
   "execution_count": 6,
   "metadata": {},
   "outputs": [],
   "source": [
    "from sklearn.tree import DecisionTreeClassifier\n",
    "from sklearn.linear_model import LogisticRegression\n",
    "lr = LogisticRegression(C=115.95959595959596,solver='newton-cg',random_state=42)\n",
    "dt = DecisionTreeClassifier(max_depth=13, random_state=42)\n"
   ]
  },
  {
   "cell_type": "code",
   "execution_count": 7,
   "metadata": {},
   "outputs": [
    {
     "name": "stdout",
     "output_type": "stream",
     "text": [
      "                     precision    recall  f1-score   support\n",
      "\n",
      "Insufficient_Weight       0.89      0.96      0.92        56\n",
      "      Normal_Weight       0.95      0.87      0.91        62\n",
      "     Obesity_Type_I       0.99      0.95      0.97        78\n",
      "    Obesity_Type_II       0.95      1.00      0.97        58\n",
      "   Obesity_Type_III       1.00      1.00      1.00        63\n",
      " Overweight_Level_I       0.98      0.95      0.96        56\n",
      "Overweight_Level_II       0.94      0.98      0.96        50\n",
      "\n",
      "           accuracy                           0.96       423\n",
      "          macro avg       0.96      0.96      0.96       423\n",
      "       weighted avg       0.96      0.96      0.96       423\n",
      "\n"
     ]
    }
   ],
   "source": [
    "from sklearn.ensemble import StackingClassifier\n",
    "sc1 = StackingClassifier(final_estimator=dt,n_jobs=-1,estimators = [('lr',lr),('dt',dt)],passthrough=True)\n",
    "sc1.fit(X_train,y_train)\n",
    "print(classification_report(y_test,sc1.predict(X_test)))"
   ]
  },
  {
   "cell_type": "code",
   "execution_count": null,
   "metadata": {},
   "outputs": [],
   "source": []
  },
  {
   "cell_type": "code",
   "execution_count": null,
   "metadata": {},
   "outputs": [],
   "source": []
  }
 ],
 "metadata": {
  "kernelspec": {
   "display_name": "Python 3",
   "language": "python",
   "name": "python3"
  },
  "language_info": {
   "codemirror_mode": {
    "name": "ipython",
    "version": 3
   },
   "file_extension": ".py",
   "mimetype": "text/x-python",
   "name": "python",
   "nbconvert_exporter": "python",
   "pygments_lexer": "ipython3",
   "version": "3.8.6"
  }
 },
 "nbformat": 4,
 "nbformat_minor": 4
}
